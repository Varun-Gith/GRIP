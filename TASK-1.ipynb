{
 "cells": [
  {
   "cell_type": "markdown",
   "id": "74c1deb5",
   "metadata": {},
   "source": [
    "# Author Name: Varun SA"
   ]
  },
  {
   "cell_type": "markdown",
   "id": "90256602",
   "metadata": {},
   "source": [
    "## TASK - Prediction using Supervised ML"
   ]
  },
  {
   "cell_type": "markdown",
   "id": "ab46726c",
   "metadata": {},
   "source": [
    "## GRIP @ THE SPARK FOUNDATION"
   ]
  },
  {
   "cell_type": "markdown",
   "id": "1f169647",
   "metadata": {},
   "source": [
    "#### This simple linear regression with only two variables predicts the percentage of the students in relation to their study hours"
   ]
  },
  {
   "cell_type": "markdown",
   "id": "61843080",
   "metadata": {},
   "source": [
    "### Technical stake"
   ]
  },
  {
   "cell_type": "code",
   "execution_count": 4,
   "id": "f3bb7140",
   "metadata": {},
   "outputs": [],
   "source": [
    "#importing the required libraries\n",
    "\n",
    "from sklearn.model_selection import train_test_split\n",
    "from sklearn.linear_model import LinearRegression\n",
    "import matplotlib.pyplot as plt\n",
    "import pandas as pd\n",
    "import numpy as np"
   ]
  },
  {
   "cell_type": "markdown",
   "id": "b7efd506",
   "metadata": {},
   "source": [
    "### Importing the datasets "
   ]
  },
  {
   "cell_type": "code",
   "execution_count": 3,
   "id": "59eef017",
   "metadata": {},
   "outputs": [
    {
     "name": "stdout",
     "output_type": "stream",
     "text": [
      "import succesfull\n"
     ]
    },
    {
     "data": {
      "text/html": [
       "<div>\n",
       "<style scoped>\n",
       "    .dataframe tbody tr th:only-of-type {\n",
       "        vertical-align: middle;\n",
       "    }\n",
       "\n",
       "    .dataframe tbody tr th {\n",
       "        vertical-align: top;\n",
       "    }\n",
       "\n",
       "    .dataframe thead th {\n",
       "        text-align: right;\n",
       "    }\n",
       "</style>\n",
       "<table border=\"1\" class=\"dataframe\">\n",
       "  <thead>\n",
       "    <tr style=\"text-align: right;\">\n",
       "      <th></th>\n",
       "      <th>Hours</th>\n",
       "      <th>Scores</th>\n",
       "    </tr>\n",
       "  </thead>\n",
       "  <tbody>\n",
       "    <tr>\n",
       "      <th>0</th>\n",
       "      <td>2.5</td>\n",
       "      <td>21</td>\n",
       "    </tr>\n",
       "    <tr>\n",
       "      <th>1</th>\n",
       "      <td>5.1</td>\n",
       "      <td>47</td>\n",
       "    </tr>\n",
       "    <tr>\n",
       "      <th>2</th>\n",
       "      <td>3.2</td>\n",
       "      <td>27</td>\n",
       "    </tr>\n",
       "    <tr>\n",
       "      <th>3</th>\n",
       "      <td>8.5</td>\n",
       "      <td>75</td>\n",
       "    </tr>\n",
       "    <tr>\n",
       "      <th>4</th>\n",
       "      <td>3.5</td>\n",
       "      <td>30</td>\n",
       "    </tr>\n",
       "    <tr>\n",
       "      <th>5</th>\n",
       "      <td>1.5</td>\n",
       "      <td>20</td>\n",
       "    </tr>\n",
       "    <tr>\n",
       "      <th>6</th>\n",
       "      <td>9.2</td>\n",
       "      <td>88</td>\n",
       "    </tr>\n",
       "    <tr>\n",
       "      <th>7</th>\n",
       "      <td>5.5</td>\n",
       "      <td>60</td>\n",
       "    </tr>\n",
       "    <tr>\n",
       "      <th>8</th>\n",
       "      <td>8.3</td>\n",
       "      <td>81</td>\n",
       "    </tr>\n",
       "    <tr>\n",
       "      <th>9</th>\n",
       "      <td>2.7</td>\n",
       "      <td>25</td>\n",
       "    </tr>\n",
       "  </tbody>\n",
       "</table>\n",
       "</div>"
      ],
      "text/plain": [
       "   Hours  Scores\n",
       "0    2.5      21\n",
       "1    5.1      47\n",
       "2    3.2      27\n",
       "3    8.5      75\n",
       "4    3.5      30\n",
       "5    1.5      20\n",
       "6    9.2      88\n",
       "7    5.5      60\n",
       "8    8.3      81\n",
       "9    2.7      25"
      ]
     },
     "execution_count": 3,
     "metadata": {},
     "output_type": "execute_result"
    }
   ],
   "source": [
    "#importing data from remote link \n",
    "\n",
    "url=r\"https://raw.githubusercontent.com/AdiPersonalWorks/Random/master/student_scores%20-%20student_scores.csv\"\n",
    "s_data= pd.read_csv(url)\n",
    "print(\"import succesfull\")\n",
    "s_data.head(10)"
   ]
  },
  {
   "cell_type": "markdown",
   "id": "ed1e12ff",
   "metadata": {},
   "source": [
    "###  Data Visualisation"
   ]
  },
  {
   "cell_type": "code",
   "execution_count": 5,
   "id": "acaa69fa",
   "metadata": {},
   "outputs": [
    {
     "data": {
      "image/png": "[encoded data removed]",
      "text/plain": [
       "<Figure size 432x288 with 1 Axes>"
      ]
     },
     "metadata": {
      "needs_background": "light"
     },
     "output_type": "display_data"
    }
   ],
   "source": [
    "#plotting the distribution of scores obtained by the students\n",
    "\n",
    "s_data.plot(x='Hours', y='Scores', style='o')\n",
    "plt.title(\"HOURS VS SCORES\")\n",
    "plt.xlabel('HOURS')\n",
    "plt.ylabel('SCORES')\n",
    "plt.show()"
   ]
  },
  {
   "cell_type": "markdown",
   "id": "32324e48",
   "metadata": {},
   "source": [
    "#### we can clearly observe the positive linear relation from the above graph"
   ]
  },
  {
   "cell_type": "markdown",
   "id": "1159de1b",
   "metadata": {},
   "source": [
    "###  Building the Linear model "
   ]
  },
  {
   "cell_type": "code",
   "execution_count": 6,
   "id": "be3a2814",
   "metadata": {},
   "outputs": [],
   "source": [
    "#seperates data into attributes(input) and labels(output)\n",
    "\n",
    "x= s_data.iloc[:,:-1].values\n",
    "y= s_data.iloc[:,1].values"
   ]
  },
  {
   "cell_type": "code",
   "execution_count": 7,
   "id": "b2cfd894",
   "metadata": {},
   "outputs": [],
   "source": [
    "#splitting the algorithm into training and testing data\n",
    "\n",
    "x_train,x_test,y_train,y_test= train_test_split(x,y, train_size=0.8, test_size=0.2,random_state=10)"
   ]
  },
  {
   "cell_type": "code",
   "execution_count": 8,
   "id": "5094c167",
   "metadata": {},
   "outputs": [
    {
     "data": {
      "text/plain": [
       "LinearRegression()"
      ]
     },
     "execution_count": 8,
     "metadata": {},
     "output_type": "execute_result"
    }
   ],
   "source": [
    "# training the data\n",
    "linear_reg=LinearRegression()\n",
    "linear_reg.fit(x_train,y_train)"
   ]
  },
  {
   "cell_type": "code",
   "execution_count": 9,
   "id": "af3039d1",
   "metadata": {},
   "outputs": [
    {
     "data": {
      "text/html": [
       "<div>\n",
       "<style scoped>\n",
       "    .dataframe tbody tr th:only-of-type {\n",
       "        vertical-align: middle;\n",
       "    }\n",
       "\n",
       "    .dataframe tbody tr th {\n",
       "        vertical-align: top;\n",
       "    }\n",
       "\n",
       "    .dataframe thead th {\n",
       "        text-align: right;\n",
       "    }\n",
       "</style>\n",
       "<table border=\"1\" class=\"dataframe\">\n",
       "  <thead>\n",
       "    <tr style=\"text-align: right;\">\n",
       "      <th></th>\n",
       "      <th>actual</th>\n",
       "      <th>predicted</th>\n",
       "    </tr>\n",
       "  </thead>\n",
       "  <tbody>\n",
       "    <tr>\n",
       "      <th>0</th>\n",
       "      <td>20</td>\n",
       "      <td>17.371423</td>\n",
       "    </tr>\n",
       "    <tr>\n",
       "      <th>1</th>\n",
       "      <td>47</td>\n",
       "      <td>52.702923</td>\n",
       "    </tr>\n",
       "    <tr>\n",
       "      <th>2</th>\n",
       "      <td>42</td>\n",
       "      <td>35.037173</td>\n",
       "    </tr>\n",
       "    <tr>\n",
       "      <th>3</th>\n",
       "      <td>27</td>\n",
       "      <td>34.055743</td>\n",
       "    </tr>\n",
       "    <tr>\n",
       "      <th>4</th>\n",
       "      <td>41</td>\n",
       "      <td>46.814340</td>\n",
       "    </tr>\n",
       "  </tbody>\n",
       "</table>\n",
       "</div>"
      ],
      "text/plain": [
       "   actual  predicted\n",
       "0      20  17.371423\n",
       "1      47  52.702923\n",
       "2      42  35.037173\n",
       "3      27  34.055743\n",
       "4      41  46.814340"
      ]
     },
     "execution_count": 9,
     "metadata": {},
     "output_type": "execute_result"
    }
   ],
   "source": [
    "# testing the linear model\n",
    "y_prd=linear_reg.predict(x_test)\n",
    "df=pd.DataFrame({'actual':y_test,'predicted':y_prd})\n",
    "df"
   ]
  },
  {
   "cell_type": "code",
   "execution_count": 10,
   "id": "58aa3b33",
   "metadata": {
    "scrolled": true
   },
   "outputs": [
    {
     "data": {
      "text/plain": [
       "<AxesSubplot:>"
      ]
     },
     "execution_count": 10,
     "metadata": {},
     "output_type": "execute_result"
    },
    {
     "data": {
      "image/png": "[encoded data removed]",
      "text/plain": [
       "<Figure size 432x288 with 1 Axes>"
      ]
     },
     "metadata": {
      "needs_background": "light"
     },
     "output_type": "display_data"
    }
   ],
   "source": [
    "# visualising the actual and predicted result\n",
    "df.plot(kind='bar')"
   ]
  },
  {
   "cell_type": "markdown",
   "id": "a8f3361d",
   "metadata": {},
   "source": [
    "### Evaluation of Model"
   ]
  },
  {
   "cell_type": "markdown",
   "id": "7aa70ca4",
   "metadata": {},
   "source": [
    "#### Evaluate the performance of the model \n",
    "##### This is calculated in order to compare the performance of the model and predict the accuracy.\n",
    "\n",
    "      "
   ]
  },
  {
   "cell_type": "code",
   "execution_count": 12,
   "id": "07c3f96d",
   "metadata": {},
   "outputs": [
    {
     "name": "stdout",
     "output_type": "stream",
     "text": [
      "Mean square error 34.300750550687425\n",
      "Mean Absolute error 5.632881746692995\n"
     ]
    }
   ],
   "source": [
    "#errors\n",
    "\n",
    "from sklearn import metrics\n",
    "print('Mean square error', metrics.mean_squared_error(y_prd,y_test))\n",
    "print('Mean Absolute error', metrics.mean_absolute_error(y_prd,y_test))"
   ]
  },
  {
   "cell_type": "code",
   "execution_count": 13,
   "id": "92917132",
   "metadata": {},
   "outputs": [
    {
     "name": "stdout",
     "output_type": "stream",
     "text": [
      "rsquared=0.768399\n"
     ]
    }
   ],
   "source": [
    "# variations\n",
    "from sklearn.metrics import r2_score\n",
    "print('%s=%f'% (\"rsquared\",r2_score(y_prd,y_test)))"
   ]
  },
  {
   "cell_type": "markdown",
   "id": "0e2c8257",
   "metadata": {},
   "source": [
    "#### R-2 gives the scores of the best-fit model\n",
    "\n",
    "#### In this case the score of R-2 = 0.768399 whisch is a great score for the above deployed model "
   ]
  },
  {
   "cell_type": "markdown",
   "id": "dc8bd680",
   "metadata": {},
   "source": [
    "### Model"
   ]
  },
  {
   "cell_type": "code",
   "execution_count": 14,
   "id": "aa5cfac0",
   "metadata": {},
   "outputs": [
    {
     "name": "stdout",
     "output_type": "stream",
     "text": [
      "m=9.814305\n",
      "c=2.649965\n"
     ]
    }
   ],
   "source": [
    "print('%s=%f'%(\"m\",linear_reg.coef_))\n",
    "print('%s=%f'%(\"c\",linear_reg.intercept_))"
   ]
  },
  {
   "cell_type": "markdown",
   "id": "7eef3d94",
   "metadata": {},
   "source": [
    "###### Y=9.814305X + 2.649965\n",
    "###### where X=hours & Y= scores"
   ]
  },
  {
   "cell_type": "markdown",
   "id": "a9218143",
   "metadata": {},
   "source": [
    "## Objective\n",
    "### To predict the mark scored by a student who studies 9.25 hrs per day:"
   ]
  },
  {
   "cell_type": "code",
   "execution_count": 16,
   "id": "97d1b421",
   "metadata": {},
   "outputs": [
    {
     "name": "stdout",
     "output_type": "stream",
     "text": [
      "Hours=9.25\n",
      "Marks Scored=93.43229053722452\n"
     ]
    }
   ],
   "source": [
    "hours=9.25\n",
    "score=linear_reg.predict([[hours]])\n",
    "print('Hours={}'.format(hours))\n",
    "print('Marks Scored={}'.format(score[0]))"
   ]
  },
  {
   "cell_type": "markdown",
   "id": "b80aca57",
   "metadata": {},
   "source": [
    "## Conclusion\n",
    "\n",
    "#### The objective of prediction utilising \"Supervised Machine Learning\" was completed successfully."
   ]
  },
  {
   "cell_type": "code",
   "execution_count": null,
   "id": "e5b66ab3",
   "metadata": {},
   "outputs": [],
   "source": []
  }
 ],
 "metadata": {
  "kernelspec": {
   "display_name": "Python 3",
   "language": "python",
   "name": "python3"
  },
  "language_info": {
   "codemirror_mode": {
    "name": "ipython",
    "version": 3
   },
   "file_extension": ".py",
   "mimetype": "text/x-python",
   "name": "python",
   "nbconvert_exporter": "python",
   "pygments_lexer": "ipython3",
   "version": "3.8.8"
  }
 },
 "nbformat": 4,
 "nbformat_minor": 5
}
